{
 "cells": [
  {
   "cell_type": "code",
   "execution_count": 55,
   "metadata": {},
   "outputs": [],
   "source": [
    "import pandas as pd\n",
    "\n",
    "# generate and format sixth and third comment data\n",
    "df1 = pd.read_csv('sessions_0plus_to_10_metadata.csv', encoding = \"ISO-8859-1\")\n",
    "df2 = pd.read_csv('sessions_10plus_to_40_metadata.csv', encoding = \"ISO-8859-1\")\n",
    "df3 = pd.read_csv('sessions_40plus_metadata.csv', encoding = \"ISO-8859-1\")"
   ]
  },
  {
   "cell_type": "code",
   "execution_count": 56,
   "metadata": {},
   "outputs": [],
   "source": [
    "clmn = [x for x in df1.columns if 'clmn' in x] # column of comments\n",
    "sixth1 = df1.drop(columns=clmn[32:])\n",
    "sixth2 = df2.drop(columns=clmn[32:])\n",
    "sixth3 = df3.drop(columns=clmn[32:])\n",
    "third1 = df1.drop(columns=clmn[65:])\n",
    "third2 = df2.drop(columns=clmn[65:])\n",
    "third3 = df3.drop(columns=clmn[65:])"
   ]
  },
  {
   "cell_type": "code",
   "execution_count": 62,
   "metadata": {},
   "outputs": [],
   "source": [
    "sixth1.to_csv('sessions_insta_final_sixth1.csv')\n",
    "sixth2.to_csv('sessions_insta_final_sixth2.csv')\n",
    "sixth3.to_csv('sessions_insta_final_sixth3.csv')\n",
    "third1.to_csv('sessions_insta_final_third1.csv')\n",
    "third2.to_csv('sessions_insta_final_third2.csv')\n",
    "third3.to_csv('sessions_insta_final_third3.csv')"
   ]
  },
  {
   "cell_type": "code",
   "execution_count": 59,
   "metadata": {},
   "outputs": [],
   "source": [
    "dfs = [sixth1,sixth2,sixth3,third1,third2,third3]\n",
    "for df in dfs:\n",
    "    for i in range(df.shape[0]):\n",
    "        df.loc[i, 'likes']=df.loc[i, 'likes'][:-8] + '   likes'"
   ]
  },
  {
   "cell_type": "code",
   "execution_count": 58,
   "metadata": {},
   "outputs": [
    {
     "data": {
      "text/plain": [
       "True"
      ]
     },
     "execution_count": 58,
     "metadata": {},
     "output_type": "execute_result"
    }
   ],
   "source": [
    "sixth1.loc[0, 'cptn_time'][-2:] == '\\r\\r'"
   ]
  },
  {
   "cell_type": "code",
   "execution_count": 60,
   "metadata": {},
   "outputs": [],
   "source": [
    "dfs = [sixth1,sixth2,sixth3,third1,third2,third3]\n",
    "for df in dfs:\n",
    "    for i in range(df.shape[0]):\n",
    "        if df.loc[i, 'cptn_time'][-2:] == '\\r\\r':\n",
    "            df.loc[i, 'cptn_time']=df.loc[i, 'cptn_time'][:-2]"
   ]
  },
  {
   "cell_type": "code",
   "execution_count": 61,
   "metadata": {},
   "outputs": [],
   "source": [
    "sixth1 = sixth1.drop(columns=['img_url'])\n",
    "sixth2 = sixth2.drop(columns=['img_url'])\n",
    "sixth3 = sixth3.drop(columns=['img_url'])\n",
    "third1 = third1.drop(columns=['img_url'])\n",
    "third2 = third2.drop(columns=['img_url'])\n",
    "third3 = third3.drop(columns=['img_url'])"
   ]
  },
  {
   "cell_type": "code",
   "execution_count": 1,
   "metadata": {},
   "outputs": [],
   "source": [
    "import pandas as pd\n",
    "dat1 = pd.read_csv('sessions_insta_final_sixth1.csv', encoding = 'ISO-8859-1')\n",
    "dat2 = pd.read_csv('sessions_insta_final_sixth2.csv', encoding = 'ISO-8859-1')\n",
    "dat3 = pd.read_csv('sessions_insta_final_sixth3.csv', encoding = 'ISO-8859-1')"
   ]
  },
  {
   "cell_type": "code",
   "execution_count": 2,
   "metadata": {},
   "outputs": [
    {
     "name": "stdout",
     "output_type": "stream",
     "text": [
      "(278, 52)\n",
      "(1018, 52)\n",
      "(922, 52)\n"
     ]
    }
   ],
   "source": [
    "print(dat1.shape)\n",
    "print(dat2.shape)\n",
    "print(dat3.shape)"
   ]
  }
 ],
 "metadata": {
  "kernelspec": {
   "display_name": "Python 3",
   "language": "python",
   "name": "python3"
  },
  "language_info": {
   "codemirror_mode": {
    "name": "ipython",
    "version": 3
   },
   "file_extension": ".py",
   "mimetype": "text/x-python",
   "name": "python",
   "nbconvert_exporter": "python",
   "pygments_lexer": "ipython3",
   "version": "3.6.9"
  }
 },
 "nbformat": 4,
 "nbformat_minor": 4
}
