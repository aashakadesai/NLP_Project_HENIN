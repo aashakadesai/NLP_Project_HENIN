{
 "cells": [
  {
   "cell_type": "code",
   "execution_count": 93,
   "metadata": {},
   "outputs": [],
   "source": [
    "import pandas as pd\n",
    "\n",
    "df = pd.read_csv('sessions_vine.csv')"
   ]
  },
  {
   "cell_type": "code",
   "execution_count": 21,
   "metadata": {},
   "outputs": [],
   "source": [
    "# reformat Media postings\n",
    "wrong_format = [df['cptn_time'][i][0:5] == 'Media' for i in range(len(df['cptn_time']))]\n",
    "for row in range(len(wrong_format)):\n",
    "    if wrong_format[row] == False:\n",
    "        df.loc[row, 'cptn_time'] = 'Media posted at:2015-01-28T18:50:13.000000'"
   ]
  },
  {
   "cell_type": "code",
   "execution_count": 22,
   "metadata": {},
   "outputs": [],
   "source": [
    "# check to see if properly formated\n",
    "wrong_format = [df['cptn_time'][i][0:5] == 'Media' for i in range(len(df['cptn_time']))]\n",
    "for i in range(len(wrong_format)):\n",
    "    if wrong_format[i] == False:\n",
    "        print(i)"
   ]
  },
  {
   "cell_type": "code",
   "execution_count": 34,
   "metadata": {},
   "outputs": [
    {
     "ename": "IndexError",
     "evalue": "list index out of range",
     "output_type": "error",
     "traceback": [
      "\u001b[0;31m---------------------------------------------------------------------------\u001b[0m",
      "\u001b[0;31mIndexError\u001b[0m                                Traceback (most recent call last)",
      "\u001b[0;32m<ipython-input-34-1e00847e80fd>\u001b[0m in \u001b[0;36m<module>\u001b[0;34m\u001b[0m\n\u001b[1;32m      4\u001b[0m     \u001b[0mcur\u001b[0m \u001b[0;34m=\u001b[0m \u001b[0mdf\u001b[0m\u001b[0;34m.\u001b[0m\u001b[0mloc\u001b[0m\u001b[0;34m[\u001b[0m\u001b[0mi\u001b[0m\u001b[0;34m,\u001b[0m \u001b[0;34m'cptn_time'\u001b[0m\u001b[0;34m]\u001b[0m\u001b[0;34m.\u001b[0m\u001b[0msplit\u001b[0m\u001b[0;34m(\u001b[0m\u001b[0;34m'T'\u001b[0m\u001b[0;34m)\u001b[0m\u001b[0;34m\u001b[0m\u001b[0;34m\u001b[0m\u001b[0m\n\u001b[1;32m      5\u001b[0m     \u001b[0mfirst_half\u001b[0m \u001b[0;34m=\u001b[0m \u001b[0mcur\u001b[0m\u001b[0;34m[\u001b[0m\u001b[0;36m0\u001b[0m\u001b[0;34m]\u001b[0m\u001b[0;34m.\u001b[0m\u001b[0msplit\u001b[0m\u001b[0;34m(\u001b[0m\u001b[0;34m':'\u001b[0m\u001b[0;34m)\u001b[0m\u001b[0;34m\u001b[0m\u001b[0;34m\u001b[0m\u001b[0m\n\u001b[0;32m----> 6\u001b[0;31m     \u001b[0mout\u001b[0m \u001b[0;34m=\u001b[0m \u001b[0mfirst_half\u001b[0m\u001b[0;34m[\u001b[0m\u001b[0;36m0\u001b[0m\u001b[0;34m]\u001b[0m \u001b[0;34m+\u001b[0m \u001b[0;34m' '\u001b[0m \u001b[0;34m+\u001b[0m \u001b[0mfirst_half\u001b[0m\u001b[0;34m[\u001b[0m\u001b[0;36m1\u001b[0m\u001b[0;34m]\u001b[0m \u001b[0;34m+\u001b[0m \u001b[0;34m' '\u001b[0m \u001b[0;34m+\u001b[0m \u001b[0mcur\u001b[0m\u001b[0;34m[\u001b[0m\u001b[0;36m1\u001b[0m\u001b[0;34m]\u001b[0m\u001b[0;34m\u001b[0m\u001b[0;34m\u001b[0m\u001b[0m\n\u001b[0m\u001b[1;32m      7\u001b[0m     \u001b[0mdf\u001b[0m\u001b[0;34m.\u001b[0m\u001b[0mloc\u001b[0m\u001b[0;34m[\u001b[0m\u001b[0mi\u001b[0m\u001b[0;34m,\u001b[0m \u001b[0;34m'cptn_time'\u001b[0m\u001b[0;34m]\u001b[0m \u001b[0;34m=\u001b[0m \u001b[0mout\u001b[0m\u001b[0;34m\u001b[0m\u001b[0;34m\u001b[0m\u001b[0m\n\u001b[1;32m      8\u001b[0m \u001b[0;34m\u001b[0m\u001b[0m\n",
      "\u001b[0;31mIndexError\u001b[0m: list index out of range"
     ]
    }
   ],
   "source": [
    "# reformat cptn_time\n",
    "rows, cols = df.shape\n",
    "\n",
    "for i in range(rows):\n",
    "    cur = df.loc[i, 'cptn_time'].split('T')\n",
    "    first_half = cur[0].split(':')\n",
    "    out = first_half[0] + ' ' + first_half[1] + ' ' + cur[1]\n",
    "    df.loc[i, 'cptn_time'] = out\n",
    "    "
   ]
  },
  {
   "cell_type": "code",
   "execution_count": 42,
   "metadata": {},
   "outputs": [],
   "source": [
    "for i in range(rows):\n",
    "    df.loc[i, 'cptn_time'] = df.loc[i, 'cptn_time'][:-7]\n",
    "    "
   ]
  },
  {
   "cell_type": "code",
   "execution_count": 94,
   "metadata": {},
   "outputs": [],
   "source": [
    "# fix timestamp  in comments:\n",
    "clmn = [x for x in df.columns if 'clmn' in x] # column of comments\n",
    "\n",
    "rows, cols = df.shape\n",
    "\n",
    "for r in range(rows):\n",
    "    for cl in clmn:\n",
    "        if df.loc[r, cl] != 'empety':\n",
    "            #print(df.loc[r, cl])\n",
    "            if type(df.loc[r, cl]) == float or 'created_at' not in df.loc[r, cl]:\n",
    "                df.loc[r, cl] = 'empety'\n",
    "                continue\n",
    "            time = df.loc[r, cl][-27:-8].split('T')\n",
    "            out = df.loc[r, cl][:-27] + time[0] + ' ' + time[1] + ')'\n",
    "            df.loc[r, cl] = out"
   ]
  },
  {
   "cell_type": "code",
   "execution_count": 95,
   "metadata": {},
   "outputs": [],
   "source": [
    "df.to_csv('sessions_vine2.csv')"
   ]
  },
  {
   "cell_type": "code",
   "execution_count": 1,
   "metadata": {},
   "outputs": [],
   "source": [
    "import pandas as pd\n",
    "\n",
    "# make unlabeled data\n",
    "df = pd.read_csv('sessions_vine_final.csv')"
   ]
  },
  {
   "cell_type": "code",
   "execution_count": 8,
   "metadata": {},
   "outputs": [],
   "source": [
    "clmn = [x for x in df.columns if 'clmn' in x] # column of comments\n",
    "sixth = df.drop(columns=clmn[110:])\n",
    "third = df.drop(columns=clmn[220:])"
   ]
  },
  {
   "cell_type": "code",
   "execution_count": 11,
   "metadata": {},
   "outputs": [],
   "source": [
    "sixth.to_csv('sessions_vine_final_sixth.csv')\n",
    "third.to_csv('sessions_vine_final_third.csv')"
   ]
  },
  {
   "cell_type": "code",
   "execution_count": 6,
   "metadata": {},
   "outputs": [],
   "source": [
    "df = pd.read_csv('../../vine unlab/sessions_unlabeled.csv')"
   ]
  },
  {
   "cell_type": "code",
   "execution_count": 9,
   "metadata": {
    "scrolled": true
   },
   "outputs": [
    {
     "data": {
      "text/html": [
       "<div>\n",
       "<style scoped>\n",
       "    .dataframe tbody tr th:only-of-type {\n",
       "        vertical-align: middle;\n",
       "    }\n",
       "\n",
       "    .dataframe tbody tr th {\n",
       "        vertical-align: top;\n",
       "    }\n",
       "\n",
       "    .dataframe thead th {\n",
       "        text-align: right;\n",
       "    }\n",
       "</style>\n",
       "<table border=\"1\" class=\"dataframe\">\n",
       "  <thead>\n",
       "    <tr style=\"text-align: right;\">\n",
       "      <th></th>\n",
       "      <th>_unit_id</th>\n",
       "      <th>_golden</th>\n",
       "      <th>_unit_state</th>\n",
       "      <th>_trusted_judgments</th>\n",
       "      <th>_last_judgment_at</th>\n",
       "      <th>question1</th>\n",
       "      <th>question1:confidence</th>\n",
       "      <th>question2</th>\n",
       "      <th>question2:confidence</th>\n",
       "      <th>clmn0</th>\n",
       "      <th>...</th>\n",
       "      <th>clmn465</th>\n",
       "      <th>cptn_time</th>\n",
       "      <th>owner_cmnt</th>\n",
       "      <th>id</th>\n",
       "      <th>owner_id</th>\n",
       "      <th>img_url</th>\n",
       "      <th>shared media</th>\n",
       "      <th>followed_by</th>\n",
       "      <th>follows</th>\n",
       "      <th>likes</th>\n",
       "    </tr>\n",
       "  </thead>\n",
       "  <tbody>\n",
       "    <tr>\n",
       "      <th>0</th>\n",
       "      <td>698432761</td>\n",
       "      <td>False</td>\n",
       "      <td>finalized</td>\n",
       "      <td>5</td>\n",
       "      <td>4/4/2015 2:22:09 AM</td>\n",
       "      <td>noneAgg</td>\n",
       "      <td>1</td>\n",
       "      <td>nonBll</td>\n",
       "      <td>1</td>\n",
       "      <td>&lt;font color=\"#0066CC\"&gt;CrafteeChloe&lt;/font&gt;   On...</td>\n",
       "      <td>...</td>\n",
       "      <td>empety</td>\n",
       "      <td>Media posted at 2013-10-14 04:47:11</td>\n",
       "      <td>I Will Follow You Into The Dark - Death Cab Fo...</td>\n",
       "      <td>1001397703332573184</td>\n",
       "      <td>&lt;font color=\"#0066CC\"&gt;eric nakassa&lt;/font&gt;</td>\n",
       "      <td>https://vine.co/v/hH3TLHdOOUr</td>\n",
       "      <td>0</td>\n",
       "      <td>0</td>\n",
       "      <td>0</td>\n",
       "      <td>28688   likes</td>\n",
       "    </tr>\n",
       "    <tr>\n",
       "      <th>1</th>\n",
       "      <td>698432762</td>\n",
       "      <td>False</td>\n",
       "      <td>finalized</td>\n",
       "      <td>5</td>\n",
       "      <td>4/4/2015 2:22:09 AM</td>\n",
       "      <td>noneAgg</td>\n",
       "      <td>1</td>\n",
       "      <td>nonBll</td>\n",
       "      <td>1</td>\n",
       "      <td>&lt;font color=\"#0066CC\"&gt;Jake Kennedy&lt;/font&gt;   MA...</td>\n",
       "      <td>...</td>\n",
       "      <td>empety</td>\n",
       "      <td>Media posted at 2013-10-14 13:37:30</td>\n",
       "      <td>my #mcm #mancrushmonday #absolutely  Nick Sant...</td>\n",
       "      <td>1001531161459441664</td>\n",
       "      <td>&lt;font color=\"#0066CC\"&gt;Brittany Struble&lt;/font&gt;</td>\n",
       "      <td>https://vine.co/v/hwutUd7E6li</td>\n",
       "      <td>0</td>\n",
       "      <td>0</td>\n",
       "      <td>0</td>\n",
       "      <td>1839   likes</td>\n",
       "    </tr>\n",
       "    <tr>\n",
       "      <th>2</th>\n",
       "      <td>698432763</td>\n",
       "      <td>False</td>\n",
       "      <td>finalized</td>\n",
       "      <td>5</td>\n",
       "      <td>4/4/2015 2:22:09 AM</td>\n",
       "      <td>noneAgg</td>\n",
       "      <td>1</td>\n",
       "      <td>nonBll</td>\n",
       "      <td>1</td>\n",
       "      <td>&lt;font color=\"#0066CC\"&gt;Denice Juarez&lt;/font&gt;   😂...</td>\n",
       "      <td>...</td>\n",
       "      <td>empety</td>\n",
       "      <td>Media posted at 2013-10-14 23:35:05</td>\n",
       "      <td>Omfg like no mom</td>\n",
       "      <td>1001681548694978560</td>\n",
       "      <td>&lt;font color=\"#0066CC\"&gt;Drew Phillips&lt;/font&gt;</td>\n",
       "      <td>https://vine.co/v/hwZb6TL7W65</td>\n",
       "      <td>0</td>\n",
       "      <td>0</td>\n",
       "      <td>0</td>\n",
       "      <td>6110   likes</td>\n",
       "    </tr>\n",
       "    <tr>\n",
       "      <th>3</th>\n",
       "      <td>698432764</td>\n",
       "      <td>False</td>\n",
       "      <td>finalized</td>\n",
       "      <td>5</td>\n",
       "      <td>4/4/2015 2:22:09 AM</td>\n",
       "      <td>noneAgg</td>\n",
       "      <td>1</td>\n",
       "      <td>nonBll</td>\n",
       "      <td>1</td>\n",
       "      <td>&lt;font color=\"#0066CC\"&gt;NICKDOWSKI&lt;/font&gt;   haha...</td>\n",
       "      <td>...</td>\n",
       "      <td>empety</td>\n",
       "      <td>Media posted at 2013-10-18 17:41:42</td>\n",
       "      <td>This how u wake a nigga up part2</td>\n",
       "      <td>1003042166966312960</td>\n",
       "      <td>&lt;font color=\"#0066CC\"&gt;Donnivin Jordan&lt;/font&gt;</td>\n",
       "      <td>https://vine.co/v/hwLKj70bEDJ</td>\n",
       "      <td>0</td>\n",
       "      <td>0</td>\n",
       "      <td>0</td>\n",
       "      <td>7030   likes</td>\n",
       "    </tr>\n",
       "    <tr>\n",
       "      <th>4</th>\n",
       "      <td>698432765</td>\n",
       "      <td>False</td>\n",
       "      <td>finalized</td>\n",
       "      <td>5</td>\n",
       "      <td>4/4/2015 2:22:09 AM</td>\n",
       "      <td>aggression</td>\n",
       "      <td>1</td>\n",
       "      <td>bullying</td>\n",
       "      <td>1</td>\n",
       "      <td>&lt;font color=\"#0066CC\"&gt;Jillian Langston&lt;/font&gt; ...</td>\n",
       "      <td>...</td>\n",
       "      <td>empety</td>\n",
       "      <td>Media posted at 2013-10-19 23:21:49</td>\n",
       "      <td>OHHHHHHMMMMMMGGGGGGGGGG! The Official Honey Bo...</td>\n",
       "      <td>1003490149176602624</td>\n",
       "      <td>&lt;font color=\"#0066CC\"&gt;Brittany Davis&lt;/font&gt;</td>\n",
       "      <td>https://vine.co/v/hdbImPXPEeH</td>\n",
       "      <td>0</td>\n",
       "      <td>0</td>\n",
       "      <td>0</td>\n",
       "      <td>592   likes</td>\n",
       "    </tr>\n",
       "  </tbody>\n",
       "</table>\n",
       "<p>5 rows × 484 columns</p>\n",
       "</div>"
      ],
      "text/plain": [
       "    _unit_id  _golden _unit_state  _trusted_judgments    _last_judgment_at  \\\n",
       "0  698432761    False   finalized                   5  4/4/2015 2:22:09 AM   \n",
       "1  698432762    False   finalized                   5  4/4/2015 2:22:09 AM   \n",
       "2  698432763    False   finalized                   5  4/4/2015 2:22:09 AM   \n",
       "3  698432764    False   finalized                   5  4/4/2015 2:22:09 AM   \n",
       "4  698432765    False   finalized                   5  4/4/2015 2:22:09 AM   \n",
       "\n",
       "    question1  question1:confidence question2  question2:confidence  \\\n",
       "0     noneAgg                     1    nonBll                     1   \n",
       "1     noneAgg                     1    nonBll                     1   \n",
       "2     noneAgg                     1    nonBll                     1   \n",
       "3     noneAgg                     1    nonBll                     1   \n",
       "4  aggression                     1  bullying                     1   \n",
       "\n",
       "                                               clmn0  ... clmn465  \\\n",
       "0  <font color=\"#0066CC\">CrafteeChloe</font>   On...  ...  empety   \n",
       "1  <font color=\"#0066CC\">Jake Kennedy</font>   MA...  ...  empety   \n",
       "2  <font color=\"#0066CC\">Denice Juarez</font>   😂...  ...  empety   \n",
       "3  <font color=\"#0066CC\">NICKDOWSKI</font>   haha...  ...  empety   \n",
       "4  <font color=\"#0066CC\">Jillian Langston</font> ...  ...  empety   \n",
       "\n",
       "                             cptn_time  \\\n",
       "0  Media posted at 2013-10-14 04:47:11   \n",
       "1  Media posted at 2013-10-14 13:37:30   \n",
       "2  Media posted at 2013-10-14 23:35:05   \n",
       "3  Media posted at 2013-10-18 17:41:42   \n",
       "4  Media posted at 2013-10-19 23:21:49   \n",
       "\n",
       "                                          owner_cmnt                   id  \\\n",
       "0  I Will Follow You Into The Dark - Death Cab Fo...  1001397703332573184   \n",
       "1  my #mcm #mancrushmonday #absolutely  Nick Sant...  1001531161459441664   \n",
       "2                                   Omfg like no mom  1001681548694978560   \n",
       "3                   This how u wake a nigga up part2  1003042166966312960   \n",
       "4  OHHHHHHMMMMMMGGGGGGGGGG! The Official Honey Bo...  1003490149176602624   \n",
       "\n",
       "                                        owner_id  \\\n",
       "0      <font color=\"#0066CC\">eric nakassa</font>   \n",
       "1  <font color=\"#0066CC\">Brittany Struble</font>   \n",
       "2     <font color=\"#0066CC\">Drew Phillips</font>   \n",
       "3   <font color=\"#0066CC\">Donnivin Jordan</font>   \n",
       "4    <font color=\"#0066CC\">Brittany Davis</font>   \n",
       "\n",
       "                         img_url shared media followed_by follows  \\\n",
       "0  https://vine.co/v/hH3TLHdOOUr            0           0       0   \n",
       "1  https://vine.co/v/hwutUd7E6li            0           0       0   \n",
       "2  https://vine.co/v/hwZb6TL7W65            0           0       0   \n",
       "3  https://vine.co/v/hwLKj70bEDJ            0           0       0   \n",
       "4  https://vine.co/v/hdbImPXPEeH            0           0       0   \n",
       "\n",
       "           likes  \n",
       "0  28688   likes  \n",
       "1   1839   likes  \n",
       "2   6110   likes  \n",
       "3   7030   likes  \n",
       "4    592   likes  \n",
       "\n",
       "[5 rows x 484 columns]"
      ]
     },
     "execution_count": 9,
     "metadata": {},
     "output_type": "execute_result"
    }
   ],
   "source": [
    "df.head()"
   ]
  },
  {
   "cell_type": "code",
   "execution_count": 16,
   "metadata": {},
   "outputs": [
    {
     "data": {
      "text/plain": [
       "20001"
      ]
     },
     "execution_count": 16,
     "metadata": {},
     "output_type": "execute_result"
    }
   ],
   "source": [
    "clmn = [x for x in df.columns if 'clmn' in x] # column of comments\n",
    "\n",
    "rows, cols = df.shape\n",
    "count = 0\n",
    "\n",
    "for r in range(rows):\n",
    "    for cl in clmn:\n",
    "        if df.loc[r, cl] != 'empety':\n",
    "            count+=1\n",
    "            \n",
    "count"
   ]
  },
  {
   "cell_type": "code",
   "execution_count": 1,
   "metadata": {},
   "outputs": [],
   "source": [
    "import pandas as pd\n",
    "\n",
    "df = pd.read_csv('sessions_vine2.csv')\n",
    "df1 = pd.read_csv('sessions_unlabeled.csv')"
   ]
  },
  {
   "cell_type": "code",
   "execution_count": 10,
   "metadata": {},
   "outputs": [
    {
     "name": "stdout",
     "output_type": "stream",
     "text": [
      "660\n",
      "740\n"
     ]
    }
   ],
   "source": [
    "clmn1 = [x for x in df.columns if 'clmn' in x] # column of comments\n",
    "clmn2 = [x for x in df1.columns if 'clmn' in x] # column of comments\n",
    "print(len(clmn1))\n",
    "print(len(clmn2))\n",
    "\n",
    "for cl in clmn1:\n",
    "    if cl not in clmn2:\n",
    "        df1[cl] = 'empety'\n",
    "\n",
    "for cl in clmn2:\n",
    "    if cl not in clmn1:\n",
    "        df[cl] = 'empety'"
   ]
  },
  {
   "cell_type": "code",
   "execution_count": 11,
   "metadata": {
    "scrolled": true
   },
   "outputs": [
    {
     "name": "stdout",
     "output_type": "stream",
     "text": [
      "740\n",
      "740\n"
     ]
    }
   ],
   "source": [
    "clmn1 = [x for x in df.columns if 'clmn' in x] # column of comments\n",
    "clmn2 = [x for x in df1.columns if 'clmn' in x] # column of comments\n",
    "print(len(clmn1))\n",
    "print(len(clmn2))"
   ]
  },
  {
   "cell_type": "code",
   "execution_count": 12,
   "metadata": {},
   "outputs": [],
   "source": [
    "df.to_csv('sessions_vine4.csv')"
   ]
  }
 ],
 "metadata": {
  "kernelspec": {
   "display_name": "Python 3",
   "language": "python",
   "name": "python3"
  },
  "language_info": {
   "codemirror_mode": {
    "name": "ipython",
    "version": 3
   },
   "file_extension": ".py",
   "mimetype": "text/x-python",
   "name": "python",
   "nbconvert_exporter": "python",
   "pygments_lexer": "ipython3",
   "version": "3.6.9"
  }
 },
 "nbformat": 4,
 "nbformat_minor": 4
}
